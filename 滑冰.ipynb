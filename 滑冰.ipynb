{
 "cells": [
  {
   "cell_type": "code",
   "execution_count": 1,
   "id": "ad9f44f6",
   "metadata": {},
   "outputs": [],
   "source": [
    "import os\n",
    "from paddle.io import Dataset\n",
    "import numpy as np\n",
    "import paddle.nn.functional as F\n",
    "import paddle as pp\n",
    "import paddle\n",
    "import pandas as pd\n",
    "import paddle.nn as nn"
   ]
  },
  {
   "cell_type": "code",
   "execution_count": 2,
   "id": "fcc79fe7",
   "metadata": {},
   "outputs": [],
   "source": [
    "sequence_length = 2500  #序列长度，最大帧为300，但这里还需要更改\n",
    "input_size = 75       #输入数据特征大小 3（x,y,z）*25（关节数量）\n",
    "hidden_size = 128     #隐藏层数据特征大小,即每个时间步对应的ht的维数\n",
    "num_layers = 2        #隐藏层层数\n",
    "num_classes = 30      #结果类数\n",
    "batch_size = 20     #一个batch大小\n",
    "num_epochs = 100       #epoch数目\n",
    "learning_rate = 0.001  #学习率"
   ]
  },
  {
   "cell_type": "code",
   "execution_count": 3,
   "id": "d83129ae",
   "metadata": {},
   "outputs": [],
   "source": [
    "class Reader(Dataset):\n",
    "    def __init__(self, data_path, label_path, is_val: bool = False):\n",
    "        super().__init__()\n",
    "        self.data_list = np.load(data_path)\n",
    "        self.label_list = np.load(label_path)\n",
    "        self.index_list = list()\n",
    "        for index in range(2922):\n",
    "            if is_val and index % 5 == 1:\n",
    "                self.index_list.append(index)\n",
    "            elif not is_val and index % 5 != 1:\n",
    "                self.index_list.append(index)\n",
    "\n",
    "    def __getitem__(self, idx):\n",
    "        idx = self.index_list[idx]\n",
    "        x = self.data_list[idx, :, :, :, :]\n",
    "        x = x.reshape(sequence_length,input_size)\n",
    "        x = x.astype(\"float32\")\n",
    "        return x, self.label_list[idx]\n",
    "\n",
    "    def __len__(self):\n",
    "        return len(self.index_list)"
   ]
  },
  {
   "cell_type": "code",
   "execution_count": 4,
   "id": "752003b8",
   "metadata": {},
   "outputs": [],
   "source": [
    "data_path = '/Users/kongxuwen/Desktop/竞赛/滑冰/train_dataset/train_data.npy'\n",
    "label_path = '/Users/kongxuwen/Desktop/竞赛/滑冰/train_dataset/train_label.npy'"
   ]
  },
  {
   "cell_type": "code",
   "execution_count": 5,
   "id": "dd72f185",
   "metadata": {},
   "outputs": [
    {
     "data": {
      "text/plain": [
       "(2500, 75)"
      ]
     },
     "execution_count": 5,
     "metadata": {},
     "output_type": "execute_result"
    }
   ],
   "source": [
    "a = Reader(data_path,label_path).__getitem__(1)\n",
    "a[0].shape"
   ]
  },
  {
   "cell_type": "code",
   "execution_count": 6,
   "id": "29f25789",
   "metadata": {},
   "outputs": [],
   "source": [
    "class InferReader(Dataset):\n",
    "    def __init__(self, INFER_DATA_PATH):\n",
    "        super().__init__()\n",
    "        self.data_list = np.load(INFER_DATA_PATH)\n",
    "        self.index_list = list()\n",
    "        for index in range(628):\n",
    "            self.index_list.append(index)\n",
    "\n",
    "    def __getitem__(self, idx):\n",
    "        idx = self.index_list[idx]\n",
    "        x = self.data_list[idx, :, :, :, :]\n",
    "        x = x.transpose(1, 2, 0, 3)\n",
    "        x = x.reshape((2500, 25, (1*3)))\n",
    "        x = x.astype(\"float32\")\n",
    "        return x\n",
    "\n",
    "    def __len__(self):\n",
    "        return len(self.index_list)"
   ]
  },
  {
   "cell_type": "code",
   "execution_count": 7,
   "id": "c91fe298",
   "metadata": {},
   "outputs": [],
   "source": [
    "class Net(pp.nn.Layer):\n",
    "    def __init__(self, is_infer: bool = False):\n",
    "        super().__init__()\n",
    "        self.hidden_size = hidden_size\n",
    "        self.num_layers = num_layers\n",
    "        \n",
    "        cell1 = nn.SimpleRNNCell(int(input_size/5), int(hidden_size/4))\n",
    "        self.rnn = nn.RNN(cell1)\n",
    "        cell2 = nn.SimpleRNNCell(hidden_size, hidden_size)\n",
    "        self.rnn2 = nn.RNN(cell2)\n",
    "        self.lstm = nn.LSTM(int(hidden_size/4*2*2), hidden_size, num_layers)\n",
    "        \n",
    "        self.fc = nn.Linear(hidden_size*sequence_length, num_classes)\n",
    "        self.fs1 = nn.Linear(int(hidden_size/2),hidden_size)\n",
    "        self.fs2 = nn.Linear(hidden_size*2,hidden_size)\n",
    "    def forward(self, x):\n",
    "        #layer1\n",
    "        (x_p1,x_p2,x_p3,x_p4,x_p5) = paddle.chunk(x, 5,axis = 2)\n",
    "        out1_p1,_ = self.rnn(x_p1)\n",
    "        out1_p2,_ = self.rnn(x_p2)\n",
    "        out1_p3,_ = self.rnn(x_p3)\n",
    "        out1_p4,_ = self.rnn(x_p4)\n",
    "        out1_p5,_ = self.rnn(x_p5)\n",
    "        \n",
    "        temp2_p1 = paddle.concat((out1_p1,out1_p2),2)\n",
    "        temp2_p2 = paddle.concat((out1_p1,out1_p3),2)\n",
    "        temp2_p3 = paddle.concat((out1_p1,out1_p4),2)\n",
    "        temp2_p4 = paddle.concat((out1_p1,out1_p5),2)\n",
    "        \n",
    "        seqs = temp2_p1.shape[1]\n",
    "        in2_p1 = []\n",
    "        for seq in range(seqs):\n",
    "            temp = paddle.squeeze(temp2_p1[:,seq,:],axis=1) #删除这个维度\n",
    "            in2_p1_i = F.relu(self.fs1(temp))\n",
    "            in2_p1.append(in2_p1_i)\n",
    "        in2_p1 = paddle.stack(in2_p1,axis = 1)\n",
    "        in2_p2 = []\n",
    "        for seq in range(seqs):\n",
    "            temp = paddle.squeeze(temp2_p2[:,seq,:],axis=1) #删除这个维度\n",
    "            in2_p2_i = F.relu(self.fs1(temp))\n",
    "            in2_p2.append(in2_p2_i)\n",
    "        in2_p2 = paddle.stack(in2_p2,axis = 1)\n",
    "        in2_p3 = []\n",
    "        for seq in range(seqs):\n",
    "            temp = paddle.squeeze(temp2_p3[:,seq,:],axis=1) #删除这个维度\n",
    "            in2_p3_i = F.relu(self.fs1(temp))\n",
    "            in2_p3.append(in2_p3_i)\n",
    "        in2_p3 = paddle.stack(in2_p3,axis = 1)\n",
    "        in2_p4 = []\n",
    "        for seq in range(seqs):\n",
    "            temp = paddle.squeeze(temp2_p4[:,seq,:],axis=1) #删除这个维度\n",
    "            in2_p4_i = F.relu(self.fs1(temp))\n",
    "            in2_p4.append(in2_p4_i)\n",
    "        in2_p4 = paddle.stack(in2_p4,axis = 1)\n",
    "        \n",
    "        #layer2\n",
    "        out2_p1,_ = self.rnn2(in2_p1)\n",
    "        out2_p2,_ = self.rnn2(in2_p2)\n",
    "        out2_p3,_ = self.rnn2(in2_p3)\n",
    "        out2_p4,_ = self.rnn2(in2_p4)\n",
    "        \n",
    "        temp3_p1 = paddle.concat((out2_p1,out2_p2),2)\n",
    "        temp3_p2 = paddle.concat((out2_p3,out2_p4),2)\n",
    "        seqs = temp3_p1.shape[1]\n",
    "        in3_p1 = []\n",
    "        for seq in range(seqs):\n",
    "            temp = paddle.squeeze(temp3_p1[:,seq,:],axis=1) #删除这个维度\n",
    "            in3_p1_i = F.relu(self.fs2(temp))\n",
    "            in3_p1.append(in3_p1_i)\n",
    "        in3_p1 = paddle.stack(in3_p1,axis = 1)\n",
    "        \n",
    "        in3_p2 = []\n",
    "        for seq in range(seqs):\n",
    "            temp = paddle.squeeze(temp3_p2[:,seq,:],axis=1) #删除这个维度\n",
    "            in3_p2_i = F.relu(self.fs2(temp))\n",
    "            in3_p2.append(in3_p2_i)\n",
    "        in3_p2 = paddle.stack(in3_p2,axis = 1)\n",
    "        \n",
    "        #layer3\n",
    "        out3_p1,_ = self.rnn2(in3_p1)\n",
    "        out3_p2,_ = self.rnn2(in3_p2)\n",
    "        \n",
    "        temp4_p1 = paddle.concat((out3_p1,out3_p2),2)\n",
    "        in4_p1 = []\n",
    "        for seq in range(seqs):\n",
    "            temp = paddle.squeeze(temp4_p1[:,seq,:],axis=1) #删除这个维度\n",
    "            in4_p1_i = F.relu(self.fs2(temp))\n",
    "            in4_p1.append(in4_p1_i)\n",
    "        in4_p1 = paddle.stack(in4_p1,1)\n",
    "        \n",
    "        #layer4\n",
    "        out4,_ = self.lstm(in4_p1)\n",
    "        out_ = self.fc(out4.reshape((out4.shape[0],hidden_size*sequence_length)))\n",
    "        return out_"
   ]
  },
  {
   "cell_type": "code",
   "execution_count": null,
   "id": "08302949",
   "metadata": {},
   "outputs": [
    {
     "name": "stdout",
     "output_type": "stream",
     "text": [
      "The loss value printed in the log is the current step, and the metric is the average value of previous steps.\n",
      "Epoch 1/100\n"
     ]
    },
    {
     "name": "stderr",
     "output_type": "stream",
     "text": [
      "/opt/anaconda3/envs/paddle/lib/python3.7/site-packages/paddle/fluid/layers/utils.py:77: DeprecationWarning: Using or importing the ABCs from 'collections' instead of from 'collections.abc' is deprecated since Python 3.3,and in 3.9 it will stop working\n",
      "  return (isinstance(seq, collections.Sequence) and\n"
     ]
    }
   ],
   "source": [
    "input_define = pp.static.InputSpec(shape=[-1, 2500,75], dtype=\"float32\", name='data')\n",
    "label_define = pp.static.InputSpec(shape=[-1, 1], dtype=\"int64\", name=\"label\")\n",
    "# 实例化网络对象并定义优化器等训练逻辑\n",
    "model = pp.Model(Net(), inputs=input_define, labels=label_define)\n",
    "# 此处lr使用CosineAnnealingDecay对学习率进行调整\n",
    "lr = paddle.optimizer.lr.CosineAnnealingDecay(learning_rate=0.00625 , T_max=180, last_epoch=-1, verbose=False)\n",
    "# 此处使用Momentum优化器\n",
    "optimizer = pp.optimizer.Adam(learning_rate=lr, parameters=model.parameters())\n",
    "# 损失函数使用交叉熵，评价指标使用准确率\n",
    "# 其中Top-k表示推理得到的概率分布中，概率最高的前k个推理结果中是否包含正确标签，如果包含则视为正确，这里的1，2，3分别计算k为1~3的情况\n",
    "model.prepare(optimizer=optimizer,\n",
    "              loss=pp.nn.CrossEntropyLoss(),\n",
    "              metrics=pp.metric.Accuracy(topk=(1, 5)))\n",
    "\n",
    "model.fit(train_data=Reader(data_path=data_path,\n",
    "                            label_path=label_path,\n",
    "                            is_val=False),\n",
    "          eval_data=Reader(data_path=data_path,\n",
    "                           label_path=label_path,\n",
    "                           is_val=True),\n",
    "          batch_size=batch_size,\n",
    "          epochs=num_epochs,\n",
    "          save_dir=\"output/\",\n",
    "          save_freq=5,\n",
    "          eval_freq=5,\n",
    "          log_freq=20, \n",
    "          shuffle=True)\n",
    "print(\"训练完毕\")"
   ]
  },
  {
   "cell_type": "code",
   "execution_count": null,
   "id": "d4eae9ba",
   "metadata": {},
   "outputs": [],
   "source": []
  }
 ],
 "metadata": {
  "kernelspec": {
   "display_name": "Python 3",
   "language": "python",
   "name": "python3"
  },
  "language_info": {
   "codemirror_mode": {
    "name": "ipython",
    "version": 3
   },
   "file_extension": ".py",
   "mimetype": "text/x-python",
   "name": "python",
   "nbconvert_exporter": "python",
   "pygments_lexer": "ipython3",
   "version": "3.8.11"
  }
 },
 "nbformat": 4,
 "nbformat_minor": 5
}
